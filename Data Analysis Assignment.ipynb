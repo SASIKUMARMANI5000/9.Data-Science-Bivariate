{
 "cells": [
  {
   "cell_type": "code",
   "execution_count": null,
   "id": "fbfb1205-5780-4b31-8517-1e2d6e8ca5be",
   "metadata": {},
   "outputs": [],
   "source": [
    "#Replace the NaN values with correct value. And justify why you have chosen the same."
   ]
  },
  {
   "cell_type": "code",
   "execution_count": 1,
   "id": "6865b6be-aa8f-432c-a3fa-eae9b820c54b",
   "metadata": {},
   "outputs": [
    {
     "name": "stdout",
     "output_type": "stream",
     "text": [
      "<class 'pandas.core.frame.DataFrame'>\n",
      "RangeIndex: 217 entries, 0 to 216\n",
      "Data columns (total 15 columns):\n",
      " #   Column          Non-Null Count  Dtype  \n",
      "---  ------          --------------  -----  \n",
      " 0   sl_no           217 non-null    float64\n",
      " 1   gender          215 non-null    object \n",
      " 2   ssc_p           215 non-null    float64\n",
      " 3   ssc_b           215 non-null    object \n",
      " 4   hsc_p           215 non-null    float64\n",
      " 5   hsc_b           215 non-null    object \n",
      " 6   hsc_s           215 non-null    object \n",
      " 7   degree_p        215 non-null    float64\n",
      " 8   degree_t        215 non-null    object \n",
      " 9   workex          215 non-null    object \n",
      " 10  etest_p         215 non-null    float64\n",
      " 11  specialisation  215 non-null    object \n",
      " 12  mba_p           215 non-null    float64\n",
      " 13  status          215 non-null    object \n",
      " 14  salary          217 non-null    float64\n",
      "dtypes: float64(7), object(8)\n",
      "memory usage: 25.6+ KB\n",
      "None\n",
      "   sl_no gender  ssc_p    ssc_b  hsc_p    hsc_b     hsc_s  degree_p  \\\n",
      "0    1.0      M  67.00   Others  91.00   Others  Commerce     58.00   \n",
      "1    2.0      M  79.33  Central  78.33   Others   Science     77.48   \n",
      "2    3.0      M  65.00  Central  68.00  Central      Arts     64.00   \n",
      "3    4.0      M  56.00  Central  52.00  Central   Science     52.00   \n",
      "4    5.0      M  85.80  Central  73.60  Central  Commerce     73.30   \n",
      "\n",
      "    degree_t workex  etest_p specialisation  mba_p      status    salary  \n",
      "0   Sci&Tech     No     55.0         Mkt&HR  58.80      Placed  270000.0  \n",
      "1   Sci&Tech    Yes     86.5        Mkt&Fin  66.28      Placed  200000.0  \n",
      "2  Comm&Mgmt     No     75.0        Mkt&Fin  57.80      Placed  250000.0  \n",
      "3   Sci&Tech     No     66.0         Mkt&HR  59.43  Not Placed       0.0  \n",
      "4  Comm&Mgmt     No     96.8        Mkt&Fin  55.50      Placed  425000.0  \n"
     ]
    },
    {
     "name": "stderr",
     "output_type": "stream",
     "text": [
      "C:\\Users\\Admin\\AppData\\Local\\Temp\\ipykernel_17376\\3467200245.py:10: FutureWarning: A value is trying to be set on a copy of a DataFrame or Series through chained assignment using an inplace method.\n",
      "The behavior will change in pandas 3.0. This inplace method will never work because the intermediate object on which we are setting values always behaves as a copy.\n",
      "\n",
      "For example, when doing 'df[col].method(value, inplace=True)', try using 'df.method({col: value}, inplace=True)' or df[col] = df[col].method(value) instead, to perform the operation inplace on the original object.\n",
      "\n",
      "\n",
      "  data['salary'].fillna(0, inplace=True)\n"
     ]
    }
   ],
   "source": [
    "import pandas as pd\n",
    "\n",
    "# Load the dataset\n",
    "data = pd.read_csv(\"Placement_Data_Full_Class.csv\")\n",
    "\n",
    "# 1. Replace missing values in 'sl_no' with sequential integers based on the index.\n",
    "data['sl_no'] = data['sl_no'].fillna(pd.Series(range(1, len(data) + 1)))\n",
    "\n",
    "# 2. Replace missing 'salary' values with 0 (assuming these candidates were not placed).\n",
    "data['salary'].fillna(0, inplace=True)\n",
    "\n",
    "# Display information about the updated dataset\n",
    "print(data.info())\n",
    "print(data.head())\n"
   ]
  },
  {
   "cell_type": "code",
   "execution_count": null,
   "id": "5e1f0c73-e4a5-4213-8a84-5173c0e67fa5",
   "metadata": {},
   "outputs": [],
   "source": [
    "#How many of them are not placed?"
   ]
  },
  {
   "cell_type": "code",
   "execution_count": 2,
   "id": "2e697e59-f1f3-4f91-a733-defdd7e11ece",
   "metadata": {},
   "outputs": [
    {
     "name": "stdout",
     "output_type": "stream",
     "text": [
      "Number of students not placed: 67\n"
     ]
    }
   ],
   "source": [
    "# Count the number of candidates who are not placed\n",
    "not_placed_count = data[data['status'] == 'Not Placed'].shape[0]\n",
    "\n",
    "# Display the result\n",
    "print(\"Number of students not placed:\", not_placed_count)\n"
   ]
  },
  {
   "cell_type": "code",
   "execution_count": null,
   "id": "7726315a-235a-4626-9ce3-fe83e21c6f2b",
   "metadata": {},
   "outputs": [],
   "source": [
    "# Find the reason for non placement from the dataset?"
   ]
  },
  {
   "cell_type": "code",
   "execution_count": 3,
   "id": "9368c523-1689-4616-910f-e2d3438793f6",
   "metadata": {},
   "outputs": [
    {
     "name": "stdout",
     "output_type": "stream",
     "text": [
      "Mean Scores Comparison:\n",
      "                ssc_p      hsc_p   degree_p      mba_p    etest_p\n",
      "status                                                           \n",
      "Not Placed  57.544030  58.395522  61.134179  61.612836  69.587910\n",
      "Placed      71.721486  69.926554  68.740541  62.579392  73.238041\n",
      "\n",
      "Work Experience Distribution:\n",
      "workex      No  Yes\n",
      "status             \n",
      "Not Placed  57   10\n",
      "Placed      84   64\n",
      "\n",
      "Specialisation Distribution:\n",
      "specialisation  Mkt&Fin  Mkt&HR\n",
      "status                         \n",
      "Not Placed           25      42\n",
      "Placed               95      53\n"
     ]
    }
   ],
   "source": [
    "# Group data by 'status' (Placed vs. Not Placed) and calculate mean for relevant columns\n",
    "analysis = data.groupby('status')[['ssc_p', 'hsc_p', 'degree_p', 'mba_p', 'etest_p']].mean()\n",
    "\n",
    "# Compare work experience and specialization distribution for placed vs. not placed candidates\n",
    "workex_distribution = data.groupby(['status', 'workex']).size().unstack()\n",
    "specialisation_distribution = data.groupby(['status', 'specialisation']).size().unstack()\n",
    "\n",
    "# Display the analysis\n",
    "print(\"Mean Scores Comparison:\")\n",
    "print(analysis)\n",
    "\n",
    "print(\"\\nWork Experience Distribution:\")\n",
    "print(workex_distribution)\n",
    "\n",
    "print(\"\\nSpecialisation Distribution:\")\n",
    "print(specialisation_distribution)\n"
   ]
  },
  {
   "cell_type": "code",
   "execution_count": null,
   "id": "fe3a47d7-e35a-4d5a-9e03-ea763fd1cfb7",
   "metadata": {},
   "outputs": [],
   "source": [
    "# What kind of relation between salary and mba_p"
   ]
  },
  {
   "cell_type": "code",
   "execution_count": 4,
   "id": "e0186d7d-d469-435c-80e1-3779764ed667",
   "metadata": {},
   "outputs": [
    {
     "name": "stdout",
     "output_type": "stream",
     "text": [
      "Correlation between salary and mba_p: 0.14\n"
     ]
    },
    {
     "data": {
      "image/png": "[encoded data removed]",
      "text/plain": [
       "<Figure size 1000x600 with 1 Axes>"
      ]
     },
     "metadata": {},
     "output_type": "display_data"
    }
   ],
   "source": [
    "import matplotlib.pyplot as plt\n",
    "import seaborn as sns\n",
    "\n",
    "# Calculate the correlation between 'salary' and 'mba_p'\n",
    "correlation = data[['salary', 'mba_p']].corr().iloc[0, 1]\n",
    "print(f\"Correlation between salary and mba_p: {correlation:.2f}\")\n",
    "\n",
    "# Scatter plot of 'salary' vs. 'mba_p'\n",
    "plt.figure(figsize=(10, 6))\n",
    "sns.scatterplot(data=data, x='mba_p', y='salary')\n",
    "plt.title(\"Scatter Plot of Salary vs. MBA Percentage (mba_p)\")\n",
    "plt.xlabel(\"MBA Percentage (mba_p)\")\n",
    "plt.ylabel(\"Salary\")\n",
    "plt.grid()\n",
    "plt.show()\n"
   ]
  },
  {
   "cell_type": "code",
   "execution_count": null,
   "id": "cc49244c-4b6b-4024-8c0f-bd571b3ab9d6",
   "metadata": {},
   "outputs": [],
   "source": [
    "# Which specialization is getting minimum salary?"
   ]
  },
  {
   "cell_type": "code",
   "execution_count": 5,
   "id": "be24e615-9eb1-4a1a-9ea2-9fb849bb5731",
   "metadata": {},
   "outputs": [
    {
     "name": "stdout",
     "output_type": "stream",
     "text": [
      "Specialization with minimum average salary: Mkt&HR\n",
      "Minimum average salary: 150842.1052631579\n"
     ]
    }
   ],
   "source": [
    "\n",
    "# Find the specialization with the minimum average salary\n",
    "min_salary_specialisation = data.groupby('specialisation')['salary'].mean().idxmin()\n",
    "min_salary_value = data.groupby('specialisation')['salary'].mean().min()\n",
    "\n",
    "print(f\"Specialization with minimum average salary: {min_salary_specialisation}\")\n",
    "print(f\"Minimum average salary: {min_salary_value}\")"
   ]
  },
  {
   "cell_type": "code",
   "execution_count": null,
   "id": "698ad117-676d-4c65-9553-29adaa12ac6f",
   "metadata": {},
   "outputs": [],
   "source": [
    "#How many of them getting above 500000 salary?"
   ]
  },
  {
   "cell_type": "code",
   "execution_count": 6,
   "id": "41aba6f5-fe88-4708-b5de-d05811166837",
   "metadata": {},
   "outputs": [
    {
     "name": "stdout",
     "output_type": "stream",
     "text": [
      "Number of candidates with salary above 500,000: 3\n"
     ]
    }
   ],
   "source": [
    "# Count the number of candidates with a salary above 500,000\n",
    "high_salary_count = data[data['salary'] > 500000].shape[0]\n",
    "\n",
    "print(f\"Number of candidates with salary above 500,000: {high_salary_count}\")\n"
   ]
  },
  {
   "cell_type": "code",
   "execution_count": null,
   "id": "3381a780-7267-49c3-b611-d63ed4cd357a",
   "metadata": {},
   "outputs": [],
   "source": [
    "#Test the Analysis of Variance between etest_p and mba_p at signifance level 5%.(Make decision using Hypothesis Testing)"
   ]
  },
  {
   "cell_type": "code",
   "execution_count": 7,
   "id": "c45eb2e5-6695-46bb-b918-f20fe6a180c7",
   "metadata": {},
   "outputs": [
    {
     "name": "stdout",
     "output_type": "stream",
     "text": [
      "F-statistic: 98.64\n",
      "P-value: 0.0000\n",
      "Decision: Reject the null hypothesis (H0). There is a significant difference between etest_p and mba_p.\n"
     ]
    }
   ],
   "source": [
    "from scipy.stats import f_oneway\n",
    "# Drop rows with missing values in 'etest_p' and 'mba_p' columns\n",
    "data = data[['etest_p', 'mba_p']].dropna()\n",
    "\n",
    "# Perform ANOVA test\n",
    "f_stat, p_value = f_oneway(data['etest_p'], data['mba_p'])\n",
    "\n",
    "# Set significance level\n",
    "alpha = 0.05\n",
    "\n",
    "# Decision\n",
    "if p_value < alpha:\n",
    "    decision = \"Reject the null hypothesis (H0). There is a significant difference between etest_p and mba_p.\"\n",
    "else:\n",
    "    decision = \"Fail to reject the null hypothesis (H0). There is no significant difference between etest_p and mba_p.\"\n",
    "\n",
    "print(f\"F-statistic: {f_stat:.2f}\")\n",
    "print(f\"P-value: {p_value:.4f}\")\n",
    "print(f\"Decision: {decision}\")"
   ]
  },
  {
   "cell_type": "code",
   "execution_count": null,
   "id": "335a8fb0-1cbb-47a4-aee7-ec412fd0b02a",
   "metadata": {},
   "outputs": [],
   "source": [
    "#Test the similarity between the degree_t(Sci&Tech) and specialisation(Mkt&HR) with respect to salary at significance level of 5%.(Make decision using Hypothesis Testing)"
   ]
  },
  {
   "cell_type": "code",
   "execution_count": 9,
   "id": "86d6b5b8-46e8-469d-bff4-1527dd52d6aa",
   "metadata": {},
   "outputs": [
    {
     "name": "stdout",
     "output_type": "stream",
     "text": [
      "T-statistic: 2.55\n",
      "P-value: 0.0134\n",
      "Decision: Reject the null hypothesis (H0). There is a significant difference in salary.\n"
     ]
    }
   ],
   "source": [
    "import pandas as pd\n",
    "from scipy.stats import ttest_ind\n",
    "\n",
    "# Load the dataset\n",
    "file_path = 'Placement_Data_Full_Class.csv'\n",
    "data = pd.read_csv(file_path)\n",
    "\n",
    "# Filter salaries for 'Sci&Tech' in degree_t and 'Mkt&HR' in specialisation\n",
    "sci_tech_salary = data[data['degree_t'] == 'Sci&Tech']['salary'].dropna()\n",
    "mkt_hr_salary = data[data['specialisation'] == 'Mkt&HR']['salary'].dropna()\n",
    "\n",
    "# Perform a two-sample t-test\n",
    "t_stat, p_value = ttest_ind(sci_tech_salary, mkt_hr_salary, equal_var=False)\n",
    "\n",
    "# Set significance level\n",
    "alpha = 0.05\n",
    "\n",
    "# Decision\n",
    "if p_value < alpha:\n",
    "    decision = \"Reject the null hypothesis (H0). There is a significant difference in salary.\"\n",
    "else:\n",
    "    decision = \"Fail to reject the null hypothesis (H0). There is no significant difference in salary.\"\n",
    "\n",
    "# Print results\n",
    "print(f\"T-statistic: {t_stat:.2f}\")\n",
    "print(f\"P-value: {p_value:.4f}\")\n",
    "print(f\"Decision: {decision}\")\n"
   ]
  },
  {
   "cell_type": "code",
   "execution_count": null,
   "id": "7b2d6c81-91f4-4c34-924a-ecafa2d096ee",
   "metadata": {},
   "outputs": [],
   "source": [
    "#Convert the normal distribution to standard normal distribution for salary column"
   ]
  },
  {
   "cell_type": "code",
   "execution_count": 11,
   "id": "91e39e11-849f-44d2-9c56-6aaac02c6aaa",
   "metadata": {},
   "outputs": [
    {
     "name": "stdout",
     "output_type": "stream",
     "text": [
      "     salary  salary_standardized\n",
      "0  270000.0            -0.199614\n",
      "1  200000.0            -0.948618\n",
      "2  250000.0            -0.413615\n",
      "3       NaN                  NaN\n",
      "4  425000.0             1.458895\n"
     ]
    }
   ],
   "source": [
    "\n",
    "# Load the dataset\n",
    "file_path = 'Placement_Data_Full_Class.csv'\n",
    "data = pd.read_csv(file_path)\n",
    "\n",
    "# Drop NaN values from 'salary' and calculate mean and standard deviation\n",
    "mean_salary = data['salary'].mean()\n",
    "std_salary = data['salary'].std()\n",
    "\n",
    "# Convert 'salary' to standardized values (Z-scores)\n",
    "data['salary_standardized'] = (data['salary'] - mean_salary) / std_salary\n",
    "\n",
    "# Display the first few rows to verify the transformation\n",
    "print(data[['salary', 'salary_standardized']].head())\n"
   ]
  },
  {
   "cell_type": "code",
   "execution_count": null,
   "id": "9d9e2c1e-d855-4bfb-90d0-a02ca408fa25",
   "metadata": {},
   "outputs": [],
   "source": [
    "#What is the probability Density Function of the salary range from 700000 to 900000?"
   ]
  },
  {
   "cell_type": "code",
   "execution_count": 12,
   "id": "4b20b693-a752-42a2-94e9-d621bad45969",
   "metadata": {},
   "outputs": [
    {
     "name": "stdout",
     "output_type": "stream",
     "text": [
      "Probability Density at salary 700000: 0.000000\n",
      "Probability Density at salary 900000: 0.000000\n"
     ]
    }
   ],
   "source": [
    "from scipy.stats import norm\n",
    "\n",
    "# Load the dataset\n",
    "file_path = 'Placement_Data_Full_Class.csv'\n",
    "data = pd.read_csv(file_path)\n",
    "\n",
    "# Drop NaN values and calculate mean and standard deviation for the 'salary' column\n",
    "salary_data = data['salary'].dropna()\n",
    "mean_salary = salary_data.mean()\n",
    "std_salary = salary_data.std()\n",
    "\n",
    "# Define the range for which we want the PDF\n",
    "lower_bound = 700000\n",
    "upper_bound = 900000\n",
    "\n",
    "# Calculate the PDF at the specified salary points\n",
    "pdf_lower = norm.pdf(lower_bound, loc=mean_salary, scale=std_salary)\n",
    "pdf_upper = norm.pdf(upper_bound, loc=mean_salary, scale=std_salary)\n",
    "\n",
    "# Display the results\n",
    "print(f\"Probability Density at salary {lower_bound}: {pdf_lower:.6f}\")\n",
    "print(f\"Probability Density at salary {upper_bound}: {pdf_upper:.6f}\")\n"
   ]
  },
  {
   "cell_type": "code",
   "execution_count": null,
   "id": "f424afb1-338e-4d3d-8dbe-94d9dae31a87",
   "metadata": {},
   "outputs": [],
   "source": [
    "#Test the similarity between the degree_t(Sci&Tech)with respect to etest_p and mba_p at significance level of 5%.(Make decision using Hypothesis Testing)"
   ]
  },
  {
   "cell_type": "code",
   "execution_count": 14,
   "id": "a345ed63-9c77-40e9-803f-3d6d526aa1a9",
   "metadata": {},
   "outputs": [
    {
     "name": "stdout",
     "output_type": "stream",
     "text": [
      "T-statistic: 5.00\n",
      "P-value: 0.0000\n",
      "Decision: Reject the null hypothesis (H0). There is a significant difference between etest_p and mba_p.\n"
     ]
    }
   ],
   "source": [
    "from scipy.stats import ttest_rel\n",
    "# Load the dataset\n",
    "file_path = 'Placement_Data_Full_Class.csv'\n",
    "data = pd.read_csv(file_path)\n",
    "\n",
    "# Filter data for students with degree_t = 'Sci&Tech'\n",
    "sci_tech_data = data[data['degree_t'] == 'Sci&Tech']\n",
    "\n",
    "# Drop NaN values for etest_p and mba_p\n",
    "etest_p = sci_tech_data['etest_p'].dropna()\n",
    "mba_p = sci_tech_data['mba_p'].dropna()\n",
    "\n",
    "# Ensure both arrays have the same length for paired t-test\n",
    "etest_p, mba_p = etest_p.align(mba_p, join='inner')\n",
    "\n",
    "# Perform a paired t-test\n",
    "t_stat, p_value = ttest_rel(etest_p, mba_p)\n",
    "\n",
    "# Set significance level\n",
    "alpha = 0.05\n",
    "\n",
    "# Decision\n",
    "if p_value < alpha:\n",
    "    decision = \"Reject the null hypothesis (H0). There is a significant difference between etest_p and mba_p.\"\n",
    "else:\n",
    "    decision = \"Fail to reject the null hypothesis (H0). There is no significant difference between etest_p and mba_p.\"\n",
    "\n",
    "# Output results\n",
    "print(f\"T-statistic: {t_stat:.2f}\")\n",
    "print(f\"P-value: {p_value:.4f}\")\n",
    "print(f\"Decision: {decision}\")\n"
   ]
  },
  {
   "cell_type": "code",
   "execution_count": null,
   "id": "c6eb2f07-0506-451c-84d6-a61a4a193f5c",
   "metadata": {},
   "outputs": [],
   "source": [
    "#Which parameter is highly correlated with salary?"
   ]
  },
  {
   "cell_type": "code",
   "execution_count": 15,
   "id": "62e57894-a472-4192-a08c-1eee5fafa899",
   "metadata": {},
   "outputs": [
    {
     "name": "stdout",
     "output_type": "stream",
     "text": [
      "Correlation of all parameters with salary:\n",
      "salary      1.000000\n",
      "etest_p     0.178307\n",
      "mba_p       0.175013\n",
      "hsc_p       0.076819\n",
      "sl_no       0.063764\n",
      "ssc_p       0.035330\n",
      "degree_p   -0.019272\n",
      "Name: salary, dtype: float64\n",
      "\n",
      "Parameter most correlated with salary: etest_p (0.1783)\n"
     ]
    }
   ],
   "source": [
    "\n",
    "# Load the dataset\n",
    "file_path = 'Placement_Data_Full_Class.csv'\n",
    "data = pd.read_csv(file_path)\n",
    "\n",
    "# Drop NaN values for salary and other columns to ensure valid computations\n",
    "numerical_data = data.dropna(subset=['salary'])  # Drop rows with missing salary\n",
    "numerical_data = numerical_data.select_dtypes(include=['float64', 'int64'])  # Select only numerical columns\n",
    "\n",
    "# Calculate correlation of all numerical columns with salary\n",
    "correlation_with_salary = numerical_data.corr()['salary'].sort_values(ascending=False)\n",
    "\n",
    "# Find the parameter with the highest correlation\n",
    "most_correlated_parameter = correlation_with_salary.index[1]  # Skip 'salary' itself\n",
    "highest_correlation_value = correlation_with_salary.iloc[1]  # Correlation value of the most correlated parameter\n",
    "\n",
    "# Output results\n",
    "print(\"Correlation of all parameters with salary:\")\n",
    "print(correlation_with_salary)\n",
    "print(f\"\\nParameter most correlated with salary: {most_correlated_parameter} ({highest_correlation_value:.4f})\")\n"
   ]
  },
  {
   "cell_type": "code",
   "execution_count": null,
   "id": "9bbb916f-4ae4-42ed-a87b-d9819d71a1f0",
   "metadata": {},
   "outputs": [],
   "source": [
    "#plot any useful graph and explain it"
   ]
  },
  {
   "cell_type": "code",
   "execution_count": 16,
   "id": "1234c539-4d1c-4fe7-b875-90976a4371f8",
   "metadata": {},
   "outputs": [
    {
     "name": "stderr",
     "output_type": "stream",
     "text": [
      "C:\\Users\\Admin\\AppData\\Local\\Temp\\ipykernel_17376\\945174755.py:9: FutureWarning: \n",
      "\n",
      "Passing `palette` without assigning `hue` is deprecated and will be removed in v0.14.0. Assign the `x` variable to `hue` and set `legend=False` for the same effect.\n",
      "\n",
      "  sns.boxplot(x='specialisation', y='salary', data=plot_data, palette='viridis')\n"
     ]
    },
    {
     "data": {
      "image/png": "[encoded data removed]",
      "text/plain": [
       "<Figure size 1000x600 with 1 Axes>"
      ]
     },
     "metadata": {},
     "output_type": "display_data"
    }
   ],
   "source": [
    "# Import necessary libraries\n",
    "import seaborn as sns\n",
    "\n",
    "# Drop NaN values for relevant columns\n",
    "plot_data = data.dropna(subset=['salary', 'specialisation'])\n",
    "\n",
    "# Plot a boxplot of salaries grouped by specialisation\n",
    "plt.figure(figsize=(10, 6))\n",
    "sns.boxplot(x='specialisation', y='salary', data=plot_data, palette='viridis')\n",
    "\n",
    "# Add labels and title\n",
    "plt.title('Salary Distribution by Specialisation', fontsize=16)\n",
    "plt.xlabel('Specialisation', fontsize=12)\n",
    "plt.ylabel('Salary', fontsize=12)\n",
    "plt.grid(axis='y', linestyle='--', alpha=0.7)\n",
    "plt.show()\n",
    "\n"
   ]
  }
 ],
 "metadata": {
  "kernelspec": {
   "display_name": "Python 3 (ipykernel)",
   "language": "python",
   "name": "python3"
  },
  "language_info": {
   "codemirror_mode": {
    "name": "ipython",
    "version": 3
   },
   "file_extension": ".py",
   "mimetype": "text/x-python",
   "name": "python",
   "nbconvert_exporter": "python",
   "pygments_lexer": "ipython3",
   "version": "3.12.3"
  }
 },
 "nbformat": 4,
 "nbformat_minor": 5
}
